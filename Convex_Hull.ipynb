{
 "cells": [
  {
   "cell_type": "markdown",
   "metadata": {},
   "source": [
    "# 1.4  Convex Hull"
   ]
  },
  {
   "cell_type": "code",
   "execution_count": 84,
   "metadata": {
    "collapsed": false
   },
   "outputs": [],
   "source": [
    "import time\n",
    "import numpy as np\n",
    "\n",
    "def ch(xy):\n",
    "    t1=time.time()\n",
    "    f=1\n",
    "    lista=[] \n",
    "    for  h in range(len(xy)): #p\n",
    "        for k in range(len(xy)):#q\n",
    "                if h != k:\n",
    "                    cum=0\n",
    "                    for i in range(len(xy)): #r\n",
    "                        p=xy[h]\n",
    "                        q=xy[k]\n",
    "                        r=xy[i]\n",
    "                        pr=[r[0]-p[0],r[1]-p[1],1]\n",
    "                        pq=[q[0]-p[0],q[1]-p[1],1]\n",
    "                        f=f+1\n",
    "                        c3=pq[0]*pr[1]-pr[0]*pq[1]\n",
    "                        if c3<0 or pq == pr or pq == [0,0,1] or pr == [0,0,1]:\n",
    "                            cum += 1\n",
    "                        if cum == len(xy):\n",
    "                            lista+=[[k,h]]\n",
    "    \n",
    "    e=[]\n",
    "    e+=[lista[0][0]] #ordena\n",
    "    e+=[lista[0][1]]\n",
    "    p=len(lista)\n",
    "    for u in range(p):\n",
    "        for i in lista: \n",
    "            if i[0]==e[-1]:\n",
    "                 e+=[i[1]]\n",
    "    l=[]\n",
    "    for y in e:\n",
    "        if y not in l:\n",
    "            l.append(y)\n",
    "                   \n",
    "        \n",
    "    t2=time.time()\n",
    "    return l,t2-t1,f\n",
    "\n",
    "\n",
    "\n",
    "\n",
    "def genp(n):\n",
    "    r=np.random.uniform(0,1,n)\n",
    "    theta=np.random.uniform(0,2*np.pi,n)\n",
    "    r=np.sqrt(r)\n",
    "\n",
    "    x=r*np.cos(theta)\n",
    "    y=r*np.sin(theta)\n",
    "\n",
    "    xy=[]\n",
    "    for i in range(len(x)):\n",
    "        xy+=[[x[i],y[i]]]\n",
    "    return xy\n",
    "\n",
    "\n",
    "k=[10,20,40,80]\n",
    "def promedio(k):\n",
    "    w=[]\n",
    "    ex=[]#n s\n",
    "    lp=[]#promedio todas las n\n",
    "    N=[]\n",
    "    for t in range(len(k)):#\n",
    "        n=k[t]\n",
    "        ex+=[n] #n\n",
    "        ey=[] #tiempos de cada n\n",
    "        for i in range(10):\n",
    "            xy=genp(n)\n",
    "            b,d,f=ch(xy)\n",
    "            ey+=[d]\n",
    "            if f not in w:\n",
    "                w.append(f)\n",
    "\n",
    "        suma=0.0\n",
    "        for i in range(len(ey)):\n",
    "            suma=suma+ey[i]\n",
    "        prom=suma/len(ey)\n",
    "        lp+=[prom]\n",
    "    return  ex,lp,w\n",
    "\n",
    "n,m,n3=promedio(k) "
   ]
  },
  {
   "cell_type": "code",
   "execution_count": 85,
   "metadata": {
    "collapsed": false
   },
   "outputs": [],
   "source": [
    "import matplotlib.pylab as plt\n",
    "import numpy as np\n",
    "from scipy import stats\n",
    "%matplotlib inline\n",
    "N=np.array(n)\n",
    "M=np.array(m)\n",
    "lnT=np.log(M)\n",
    "lnN=np.log(N)\n",
    "\n",
    "#plt.plot(lnN,lnT,\"*\")\n",
    "xdata=np.array(lnN)\n",
    "ydata=np.array(lnT)\n",
    "slope, intercept, r_value, p_value, std_err = stats.linregress(xdata,ydata)\n",
    "\n",
    "x=range(20)\n",
    "fny=[]\n",
    "for i in range(20):\n",
    "    fny+=[slope*i+intercept]"
   ]
  },
  {
   "cell_type": "markdown",
   "metadata": {},
   "source": [
    "## 0(n) aproximadamente = n**3"
   ]
  },
  {
   "cell_type": "code",
   "execution_count": 89,
   "metadata": {
    "collapsed": false
   },
   "outputs": [
    {
     "name": "stdout",
     "output_type": "stream",
     "text": [
      "la pendiente de la regresión lineal= 2.94592136017\n"
     ]
    },
    {
     "data": {
      "image/png": "[encoded data removed]",
      "text/plain": [
       "<matplotlib.figure.Figure at 0x7f5125f74bd0>"
      ]
     },
     "metadata": {},
     "output_type": "display_data"
    }
   ],
   "source": [
    "print \"la pendiente de la regresión lineal=\",slope\n",
    "plt.plot(x,fny)\n",
    "plt.xlabel('ln(N)')  # Colocamos la etiqueta en el eje x\n",
    "plt.ylabel('ln(T)')  # Colocamos la etiqueta en el eje y\n",
    "plt.show() \n"
   ]
  },
  {
   "cell_type": "code",
   "execution_count": 90,
   "metadata": {
    "collapsed": false
   },
   "outputs": [
    {
     "data": {
      "text/plain": [
       "[<matplotlib.lines.Line2D at 0x7f5125c94a90>]"
      ]
     },
     "execution_count": 90,
     "metadata": {},
     "output_type": "execute_result"
    },
    {
     "data": {
      "image/png": "[encoded data removed]",
      "text/plain": [
       "<matplotlib.figure.Figure at 0x7f5126d16910>"
      ]
     },
     "metadata": {},
     "output_type": "display_data"
    }
   ],
   "source": [
    "import numpy as np\n",
    "import matplotlib.pylab as plt\n",
    "%matplotlib inline\n",
    "nlineas = len(open('input.dat').readlines())\n",
    "\n",
    "file=open('points.dat','r')\n",
    "a=[]\n",
    "for i in range(nlineas):\n",
    "    infile=file.readlines() \n",
    "    a+=infile\n",
    "xy=[]\n",
    "x1=[]\n",
    "y1=[]\n",
    " \n",
    "for h in range(len(a)):\n",
    "    x=float(a[h].split(\" \")[0])\n",
    "    y=float(a[h].split(\" \")[1].split(\"\\n\")[0]) \n",
    "    xy+=[[x,y]]\n",
    "    plt.plot(x,y,\".\")\n",
    "def ch(xy):\n",
    "    t1=time.time()\n",
    "    f=1\n",
    "    lista=[] \n",
    "    for  h in range(len(xy)): #p\n",
    "        for k in range(len(xy)):#q\n",
    "                if h != k:\n",
    "                    cum=0\n",
    "                    for i in range(len(xy)): #r\n",
    "                        p=xy[h]\n",
    "                        q=xy[k]\n",
    "                        r=xy[i]\n",
    "                        pr=[r[0]-p[0],r[1]-p[1],1]\n",
    "                        pq=[q[0]-p[0],q[1]-p[1],1]\n",
    "                        f=f+1\n",
    "                        c3=pq[0]*pr[1]-pr[0]*pq[1]\n",
    "                        if c3<0 or pq == pr or pq == [0,0,1] or pr == [0,0,1]:\n",
    "                            cum += 1\n",
    "                        if cum == len(xy):\n",
    "                            lista+=[[k,h]]\n",
    "    \n",
    "    e=[]\n",
    "    e+=[lista[0][0]]\n",
    "    e+=[lista[0][1]]\n",
    "    p=len(lista)\n",
    "    for u in range(p):\n",
    "        for i in lista: \n",
    "            if i[0]==e[-1]:\n",
    "                 e+=[i[1]]\n",
    "    l=[]\n",
    "    for y in e:\n",
    "        if y not in l:\n",
    "            l.append(y)\n",
    "    l.append(e[0])\n",
    "                   \n",
    "        \n",
    "    t2=time.time()\n",
    "    return lista,l\n",
    "c,l=ch(xy)\n",
    "x=[]\n",
    "y=[]\n",
    "d=[]\n",
    "for i in l:\n",
    "    x+=[xy[i][0]]\n",
    "    y+=[xy[i][1]]\n",
    "    plt.plot(x,y,\"*\")\n",
    "plt.title('Convex Hull') \n",
    "plt.plot(x,y,\"-\")  "
   ]
  }
 ],
 "metadata": {
  "kernelspec": {
   "display_name": "Python 2",
   "language": "python",
   "name": "python2"
  },
  "language_info": {
   "codemirror_mode": {
    "name": "ipython",
    "version": 2
   },
   "file_extension": ".py",
   "mimetype": "text/x-python",
   "name": "python",
   "nbconvert_exporter": "python",
   "pygments_lexer": "ipython2",
   "version": "2.7.12"
  }
 },
 "nbformat": 4,
 "nbformat_minor": 1
}
